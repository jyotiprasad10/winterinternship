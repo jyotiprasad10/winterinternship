{
 "cells": [
  {
   "cell_type": "code",
   "execution_count": 60,
   "metadata": {},
   "outputs": [],
   "source": [
    "\n",
    "def get_df_from_url(url):\n",
    "    import pandas as pd\n",
    "    try:\n",
    "        df = pd.read_csv(url, index_col=0)\n",
    "    except pd.errors.ParserError:\n",
    "        csv = read_from_url(url)\n",
    "        df = pd.DataFrame(csv)\n",
    "    try:\n",
    "        resp = df\n",
    "    except Exception as ex:\n",
    "        resp = df\n",
    "    return resp\n",
    "def read_from_url(url):\n",
    "    import requests\n",
    "    import re\n",
    "    def make_entry(x):\n",
    "        return {\n",
    "            'server_ip':x.group('ip'),\n",
    "            'uri':x.group('uri'),\n",
    "            'time':x.group('time'),\n",
    "            'method':x.group(3),\n",
    "            'status_code':x.group('status_code'),\n",
    "            'referral':x.group('referral'),\n",
    "            'agent':x.group('agent'),\n",
    "            }\n",
    "    try:\n",
    "        data = requests.get(url).text.split('\\n')\n",
    "    except:\n",
    "        pass\n",
    "    log_re = '(?P<ip>[.:0-9a-fA-F]+) - - \\[(?P<time>.*?)\\] \"\\\\b(GET|POST|HEAD|PUT|OPTIONS|DELETE|CONNECT|TRACE)\\\\b (?P<uri>.*?) HTTP/1.\\d\" (?P<status_code>\\d+) (?P<bytes_tranfered>\\d+) \"(?P<referral>.*?)\" \"(?P<agent>.*?)\"'\n",
    "    search = re.compile(log_re).search\n",
    "    matches = (search(line) for line in data)\n",
    "    return [make_entry(x) for x in matches if x]"
   ]
  },
  {
   "cell_type": "code",
   "execution_count": 66,
   "metadata": {},
   "outputs": [],
   "source": [
    "url = \"https://raw.githubusercontent.com/ayedaemon/RuckSack-Python/master/log_analysis/access_log\"\n",
    "df = get_df_from_url(url)"
   ]
  },
  {
   "cell_type": "code",
   "execution_count": 68,
   "metadata": {},
   "outputs": [],
   "source": [
    "df = get_df_from_url(url)\n"
   ]
  },
  {
   "cell_type": "code",
   "execution_count": 69,
   "metadata": {},
   "outputs": [
    {
     "data": {
      "text/plain": [
       "172.17.0.1    763\n",
       "127.0.0.1       4\n",
       "Name: server_ip, dtype: int64"
      ]
     },
     "execution_count": 69,
     "metadata": {},
     "output_type": "execute_result"
    }
   ],
   "source": [
    "df['server_ip'].value_counts().head(5)"
   ]
  },
  {
   "cell_type": "code",
   "execution_count": null,
   "metadata": {},
   "outputs": [],
   "source": []
  },
  {
   "cell_type": "code",
   "execution_count": 70,
   "metadata": {},
   "outputs": [],
   "source": [
    "def mostvisitedandleastvisiteduser(df,n=1,m=1):\n",
    "    ans = {}\n",
    "    ans['Top visited User'] = list(df['server_ip'].value_counts().head(n).index)\n",
    "    ans['Least visited User'] = list(df['server_ip'].value_counts().tail(m).index)\n",
    "    return ans"
   ]
  },
  {
   "cell_type": "code",
   "execution_count": 71,
   "metadata": {},
   "outputs": [
    {
     "data": {
      "text/plain": [
       "{'Top visited User': ['172.17.0.1'], 'Least visited User': ['127.0.0.1']}"
      ]
     },
     "execution_count": 71,
     "metadata": {},
     "output_type": "execute_result"
    }
   ],
   "source": [
    "mostvisitedandleastvisiteduser(df,n=1,m=1)"
   ]
  },
  {
   "cell_type": "code",
   "execution_count": 72,
   "metadata": {},
   "outputs": [],
   "source": [
    "def mostvisited_and_leastvisitedpage(df,n=1,m=1):\n",
    "    result = {}\n",
    "    pages = df.uri.apply(lambda x: x.split('?')[0])\n",
    "    result['Top visited Page'] = list(pages.value_counts().head(n).index)\n",
    "    result['Least Visited Page'] = list(pages.value_counts().tail(m).index)\n",
    "    return result"
   ]
  },
  {
   "cell_type": "code",
   "execution_count": 73,
   "metadata": {},
   "outputs": [
    {
     "data": {
      "text/plain": [
       "{'Top visited Page': ['/cgi-bin/weak_form.py'],\n",
       " 'Least Visited Page': ['/noindex/common/images/pb-centos.png']}"
      ]
     },
     "execution_count": 73,
     "metadata": {},
     "output_type": "execute_result"
    }
   ],
   "source": [
    "mostvisited_and_leastvisitedpage(df)"
   ]
  },
  {
   "cell_type": "code",
   "execution_count": 74,
   "metadata": {},
   "outputs": [],
   "source": [
    "def XSS(str_):\n",
    "    flag = 0\n",
    "    l1 = ['<','>','\\\\','`']\n",
    "    l2 = ['/',')','(']\n",
    "    for char in l1:\n",
    "        aasci_encoding = '%'+hex(ord(char)).replace('0x','')\n",
    "        if (char in str_) or (aasci_encoding in str_):\n",
    "            flag = 1\n",
    "            break\n",
    "    if flag != 1:\n",
    "        try:\n",
    "            req_str = ''.join(str_.split('?')[1:])\n",
    "            for char in l2:\n",
    "                aasci_encoding = '%'+hex(ord(char)).replace('0x','')\n",
    "                if (char in req_str) or (aasci_encoding in req_str):\n",
    "                    flag = 1\n",
    "                    break\n",
    "        except:\n",
    "            pass\n",
    "    return bool(flag)"
   ]
  },
  {
   "cell_type": "code",
   "execution_count": 75,
   "metadata": {},
   "outputs": [],
   "source": [
    "df['XSS_attack'] = df['uri'].apply(XSS)"
   ]
  },
  {
   "cell_type": "code",
   "execution_count": 76,
   "metadata": {},
   "outputs": [
    {
     "data": {
      "text/html": [
       "<div>\n",
       "<style scoped>\n",
       "    .dataframe tbody tr th:only-of-type {\n",
       "        vertical-align: middle;\n",
       "    }\n",
       "\n",
       "    .dataframe tbody tr th {\n",
       "        vertical-align: top;\n",
       "    }\n",
       "\n",
       "    .dataframe thead th {\n",
       "        text-align: right;\n",
       "    }\n",
       "</style>\n",
       "<table border=\"1\" class=\"dataframe\">\n",
       "  <thead>\n",
       "    <tr style=\"text-align: right;\">\n",
       "      <th></th>\n",
       "      <th>server_ip</th>\n",
       "      <th>uri</th>\n",
       "      <th>time</th>\n",
       "      <th>method</th>\n",
       "      <th>status_code</th>\n",
       "      <th>referral</th>\n",
       "      <th>agent</th>\n",
       "      <th>XSS_attack</th>\n",
       "    </tr>\n",
       "  </thead>\n",
       "  <tbody>\n",
       "    <tr>\n",
       "      <th>749</th>\n",
       "      <td>172.17.0.1</td>\n",
       "      <td>/cgi-bin/weak_form.py?fname=asdasd%3C%2Fp%3E%3...</td>\n",
       "      <td>15/Jan/2021:10:05:35 +0000</td>\n",
       "      <td>GET</td>\n",
       "      <td>200</td>\n",
       "      <td>http://172.17.0.2/cgi-bin/weak_form.py?fname=s...</td>\n",
       "      <td>Mozilla/5.0 (X11; Linux x86_64; rv:84.0) Gecko...</td>\n",
       "      <td>True</td>\n",
       "    </tr>\n",
       "    <tr>\n",
       "      <th>752</th>\n",
       "      <td>172.17.0.1</td>\n",
       "      <td>/cgi-bin/weak_form.py?fname=abcd&amp;lname=111&lt;/p&gt;...</td>\n",
       "      <td>16/Jan/2021:05:29:02 +0000</td>\n",
       "      <td>GET</td>\n",
       "      <td>200</td>\n",
       "      <td>-</td>\n",
       "      <td>curl/7.74.0</td>\n",
       "      <td>True</td>\n",
       "    </tr>\n",
       "    <tr>\n",
       "      <th>753</th>\n",
       "      <td>172.17.0.1</td>\n",
       "      <td>/cgi-bin/weak_form.py?fname=abcd&amp;lname=111&lt;/p&gt;...</td>\n",
       "      <td>16/Jan/2021:05:30:04 +0000</td>\n",
       "      <td>GET</td>\n",
       "      <td>200</td>\n",
       "      <td>-</td>\n",
       "      <td>curl/7.74.0</td>\n",
       "      <td>True</td>\n",
       "    </tr>\n",
       "    <tr>\n",
       "      <th>754</th>\n",
       "      <td>172.17.0.1</td>\n",
       "      <td>/cgi-bin/weak_form.py?fname=abcd&amp;lname=111&lt;/p&gt;...</td>\n",
       "      <td>16/Jan/2021:05:30:42 +0000</td>\n",
       "      <td>GET</td>\n",
       "      <td>200</td>\n",
       "      <td>-</td>\n",
       "      <td>curl/7.74.0</td>\n",
       "      <td>True</td>\n",
       "    </tr>\n",
       "    <tr>\n",
       "      <th>755</th>\n",
       "      <td>172.17.0.1</td>\n",
       "      <td>/cgi-bin/weak_form.py?fname=abcd&amp;lname=111&lt;/p&gt;...</td>\n",
       "      <td>16/Jan/2021:05:30:57 +0000</td>\n",
       "      <td>GET</td>\n",
       "      <td>200</td>\n",
       "      <td>-</td>\n",
       "      <td>curl/7.74.0</td>\n",
       "      <td>True</td>\n",
       "    </tr>\n",
       "    <tr>\n",
       "      <th>756</th>\n",
       "      <td>172.17.0.1</td>\n",
       "      <td>/cgi-bin/weak_form.py?fname=abcd&amp;lname=111&lt;/p&gt;...</td>\n",
       "      <td>16/Jan/2021:05:31:04 +0000</td>\n",
       "      <td>GET</td>\n",
       "      <td>200</td>\n",
       "      <td>-</td>\n",
       "      <td>curl/7.74.0</td>\n",
       "      <td>True</td>\n",
       "    </tr>\n",
       "    <tr>\n",
       "      <th>757</th>\n",
       "      <td>172.17.0.1</td>\n",
       "      <td>/cgi-bin/weak_form.py?fname=abcd&amp;lname=111&lt;/p&gt;...</td>\n",
       "      <td>16/Jan/2021:05:31:24 +0000</td>\n",
       "      <td>GET</td>\n",
       "      <td>200</td>\n",
       "      <td>-</td>\n",
       "      <td>curl/7.74.0</td>\n",
       "      <td>True</td>\n",
       "    </tr>\n",
       "    <tr>\n",
       "      <th>758</th>\n",
       "      <td>172.17.0.1</td>\n",
       "      <td>/cgi-bin/weak_form.py?fname=abcd&amp;lname=111&lt;/p&gt;...</td>\n",
       "      <td>16/Jan/2021:05:31:28 +0000</td>\n",
       "      <td>GET</td>\n",
       "      <td>200</td>\n",
       "      <td>-</td>\n",
       "      <td>curl/7.74.0</td>\n",
       "      <td>True</td>\n",
       "    </tr>\n",
       "    <tr>\n",
       "      <th>759</th>\n",
       "      <td>172.17.0.1</td>\n",
       "      <td>/cgi-bin/weak_form.py?fname=abcd&amp;lname=111&lt;/p&gt;...</td>\n",
       "      <td>16/Jan/2021:05:31:34 +0000</td>\n",
       "      <td>GET</td>\n",
       "      <td>200</td>\n",
       "      <td>-</td>\n",
       "      <td>curl/7.74.0</td>\n",
       "      <td>True</td>\n",
       "    </tr>\n",
       "    <tr>\n",
       "      <th>760</th>\n",
       "      <td>172.17.0.1</td>\n",
       "      <td>/cgi-bin/weak_form.py?fname=abcd&amp;lname=111&lt;/p&gt;...</td>\n",
       "      <td>16/Jan/2021:05:32:02 +0000</td>\n",
       "      <td>GET</td>\n",
       "      <td>200</td>\n",
       "      <td>-</td>\n",
       "      <td>curl/7.74.0</td>\n",
       "      <td>True</td>\n",
       "    </tr>\n",
       "  </tbody>\n",
       "</table>\n",
       "</div>"
      ],
      "text/plain": [
       "      server_ip                                                uri  \\\n",
       "749  172.17.0.1  /cgi-bin/weak_form.py?fname=asdasd%3C%2Fp%3E%3...   \n",
       "752  172.17.0.1  /cgi-bin/weak_form.py?fname=abcd&lname=111</p>...   \n",
       "753  172.17.0.1  /cgi-bin/weak_form.py?fname=abcd&lname=111</p>...   \n",
       "754  172.17.0.1  /cgi-bin/weak_form.py?fname=abcd&lname=111</p>...   \n",
       "755  172.17.0.1  /cgi-bin/weak_form.py?fname=abcd&lname=111</p>...   \n",
       "756  172.17.0.1  /cgi-bin/weak_form.py?fname=abcd&lname=111</p>...   \n",
       "757  172.17.0.1  /cgi-bin/weak_form.py?fname=abcd&lname=111</p>...   \n",
       "758  172.17.0.1  /cgi-bin/weak_form.py?fname=abcd&lname=111</p>...   \n",
       "759  172.17.0.1  /cgi-bin/weak_form.py?fname=abcd&lname=111</p>...   \n",
       "760  172.17.0.1  /cgi-bin/weak_form.py?fname=abcd&lname=111</p>...   \n",
       "\n",
       "                           time method status_code  \\\n",
       "749  15/Jan/2021:10:05:35 +0000    GET         200   \n",
       "752  16/Jan/2021:05:29:02 +0000    GET         200   \n",
       "753  16/Jan/2021:05:30:04 +0000    GET         200   \n",
       "754  16/Jan/2021:05:30:42 +0000    GET         200   \n",
       "755  16/Jan/2021:05:30:57 +0000    GET         200   \n",
       "756  16/Jan/2021:05:31:04 +0000    GET         200   \n",
       "757  16/Jan/2021:05:31:24 +0000    GET         200   \n",
       "758  16/Jan/2021:05:31:28 +0000    GET         200   \n",
       "759  16/Jan/2021:05:31:34 +0000    GET         200   \n",
       "760  16/Jan/2021:05:32:02 +0000    GET         200   \n",
       "\n",
       "                                              referral  \\\n",
       "749  http://172.17.0.2/cgi-bin/weak_form.py?fname=s...   \n",
       "752                                                  -   \n",
       "753                                                  -   \n",
       "754                                                  -   \n",
       "755                                                  -   \n",
       "756                                                  -   \n",
       "757                                                  -   \n",
       "758                                                  -   \n",
       "759                                                  -   \n",
       "760                                                  -   \n",
       "\n",
       "                                                 agent  XSS_attack  \n",
       "749  Mozilla/5.0 (X11; Linux x86_64; rv:84.0) Gecko...        True  \n",
       "752                                        curl/7.74.0        True  \n",
       "753                                        curl/7.74.0        True  \n",
       "754                                        curl/7.74.0        True  \n",
       "755                                        curl/7.74.0        True  \n",
       "756                                        curl/7.74.0        True  \n",
       "757                                        curl/7.74.0        True  \n",
       "758                                        curl/7.74.0        True  \n",
       "759                                        curl/7.74.0        True  \n",
       "760                                        curl/7.74.0        True  "
      ]
     },
     "execution_count": 76,
     "metadata": {},
     "output_type": "execute_result"
    }
   ],
   "source": [
    "df[df.XSS_attack == True].head(10)"
   ]
  },
  {
   "cell_type": "code",
   "execution_count": 77,
   "metadata": {},
   "outputs": [
    {
     "name": "stdout",
     "output_type": "stream",
     "text": [
      "Requirement already satisfied: geopy in c:\\users\\hp\\anaconda3\\lib\\site-packages (2.1.0)\n",
      "Requirement already satisfied: geographiclib<2,>=1.49 in c:\\users\\hp\\anaconda3\\lib\\site-packages (from geopy) (1.50)\n"
     ]
    }
   ],
   "source": [
    "import re\n",
    "from collections import Counter\n",
    "from bs4 import BeautifulSoup as bs\n",
    "import matplotlib.pyplot as plt\n",
    "import pandas as pd\n",
    "import requests\n",
    "from urllib.request import urlopen\n",
    "import numpy as np\n",
    "import matplotlib.pyplot as plt\n",
    "import seaborn as sns\n",
    "plt.style.use('ggplot')\n",
    "import time\n",
    "!pip install geopy\n",
    "from geopy.geocoders import Nominatim\n",
    "from random import randint\n"
   ]
  },
  {
   "cell_type": "code",
   "execution_count": 53,
   "metadata": {},
   "outputs": [
    {
     "name": "stdout",
     "output_type": "stream",
     "text": [
      "Collecting folium\n",
      "  Downloading folium-0.12.1-py2.py3-none-any.whl (94 kB)\n",
      "Requirement already satisfied: requests in c:\\users\\hp\\anaconda3\\lib\\site-packages (from folium) (2.24.0)\n",
      "Collecting branca>=0.3.0\n",
      "  Downloading branca-0.4.2-py3-none-any.whl (24 kB)\n",
      "Requirement already satisfied: numpy in c:\\users\\hp\\anaconda3\\lib\\site-packages (from folium) (1.18.5)\n",
      "Requirement already satisfied: jinja2>=2.9 in c:\\users\\hp\\anaconda3\\lib\\site-packages (from folium) (2.11.2)\n",
      "Requirement already satisfied: chardet<4,>=3.0.2 in c:\\users\\hp\\anaconda3\\lib\\site-packages (from requests->folium) (3.0.4)\n",
      "Requirement already satisfied: urllib3!=1.25.0,!=1.25.1,<1.26,>=1.21.1 in c:\\users\\hp\\anaconda3\\lib\\site-packages (from requests->folium) (1.25.9)\n",
      "Requirement already satisfied: idna<3,>=2.5 in c:\\users\\hp\\anaconda3\\lib\\site-packages (from requests->folium) (2.10)\n",
      "Requirement already satisfied: certifi>=2017.4.17 in c:\\users\\hp\\anaconda3\\lib\\site-packages (from requests->folium) (2020.6.20)\n",
      "Requirement already satisfied: MarkupSafe>=0.23 in c:\\users\\hp\\anaconda3\\lib\\site-packages (from jinja2>=2.9->folium) (1.1.1)\n",
      "Installing collected packages: branca, folium\n",
      "Successfully installed branca-0.4.2 folium-0.12.1\n",
      "Requirement already satisfied: geonamescache in c:\\users\\hp\\anaconda3\\lib\\site-packages (1.2.0)\n"
     ]
    }
   ],
   "source": [
    "!pip install folium\n",
    "!pip install geonamescache\n",
    "from geonamescache import GeonamesCache\n",
    "#import helpers\n",
    "from matplotlib.patches import Polygon\n",
    "from matplotlib.collections import PatchCollection\n",
    "#from mpl_toolkits.basemap import Basemap\n",
    "import folium\n",
    "from folium.plugins import MarkerCluster"
   ]
  },
  {
   "cell_type": "code",
   "execution_count": 78,
   "metadata": {},
   "outputs": [],
   "source": [
    "def OS_dict(browser_series):\n",
    "    os = ['Windows','Linux','Opera','Other']\n",
    "    res_dict = {o:0 for o in os}\n",
    "    for browser in browser_series:\n",
    "        flag = 0\n",
    "        for i in os[:-1]:\n",
    "            if i in browser:\n",
    "                res_dict[i]+=1\n",
    "                flag = 1\n",
    "                break\n",
    "        if flag==0:\n",
    "            res_dict['Other']+=1\n",
    "    return res_dict"
   ]
  },
  {
   "cell_type": "code",
   "execution_count": 79,
   "metadata": {},
   "outputs": [],
   "source": [
    "OS = OS_dict(df['agent'])"
   ]
  },
  {
   "cell_type": "code",
   "execution_count": 80,
   "metadata": {},
   "outputs": [
    {
     "data": {
      "image/png": "[encoded data removed]",
      "text/plain": [
       "<Figure size 432x288 with 1 Axes>"
      ]
     },
     "metadata": {},
     "output_type": "display_data"
    }
   ],
   "source": [
    "plt.pie( list(OS.values()), labels=list(OS.keys()))\n",
    "plt.title(\"Per OS visits\")\n",
    "plt.show()"
   ]
  },
  {
   "cell_type": "code",
   "execution_count": null,
   "metadata": {},
   "outputs": [],
   "source": []
  }
 ],
 "metadata": {
  "kernelspec": {
   "display_name": "Python 3",
   "language": "python",
   "name": "python3"
  },
  "language_info": {
   "codemirror_mode": {
    "name": "ipython",
    "version": 3
   },
   "file_extension": ".py",
   "mimetype": "text/x-python",
   "name": "python",
   "nbconvert_exporter": "python",
   "pygments_lexer": "ipython3",
   "version": "3.8.3"
  }
 },
 "nbformat": 4,
 "nbformat_minor": 4
}
